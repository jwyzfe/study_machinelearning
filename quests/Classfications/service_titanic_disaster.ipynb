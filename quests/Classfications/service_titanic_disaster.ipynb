{
 "cells": [
  {
   "cell_type": "code",
   "execution_count": 53,
   "metadata": {},
   "outputs": [],
   "source": [
    "import pickle\n",
    "import pandas as pd\n",
    "from sklearn.preprocessing import StandardScaler\n",
    "\n",
    "dataset_path = '/apps/study_machinelearning/datasets/titanic_train.csv'"
   ]
  },
  {
   "cell_type": "code",
   "execution_count": 54,
   "metadata": {},
   "outputs": [],
   "source": [
    "with open('titanic_model.pkl', 'rb') as f:  \n",
    "    loaded_model = pickle.load(f)"
   ]
  },
  {
   "cell_type": "code",
   "execution_count": 55,
   "metadata": {},
   "outputs": [],
   "source": [
    "data = pd.read_csv(dataset_path)\n",
    "trained_features = ['Pclass', 'SibSp', 'Parch', 'Fare']"
   ]
  },
  {
   "cell_type": "code",
   "execution_count": 56,
   "metadata": {},
   "outputs": [],
   "source": [
    "# 사용자 입력 받기\n",
    "pclass = int(input(\"Pclass (1, 2, 3): \"))\n",
    "sibsp = int(input(\"SibSp (형제/배우자 수): \"))\n",
    "parch = int(input(\"Parch (부모/자녀 수): \"))\n",
    "fare = float(input(\"Fare (요금): \"))\n",
    "#"
   ]
  },
  {
   "cell_type": "code",
   "execution_count": 57,
   "metadata": {},
   "outputs": [],
   "source": [
    "# 사용자 입력을 DataFrame으로 변환\n",
    "input_data = pd.DataFrame([[pclass, sibsp, parch, fare]], columns=trained_features)"
   ]
  },
  {
   "cell_type": "code",
   "execution_count": 58,
   "metadata": {},
   "outputs": [],
   "source": [
    "from sklearn.preprocessing import StandardScaler\n",
    "# 스케일러 학습\n",
    "standardScaler = StandardScaler()\n",
    "standard_scaler = standardScaler.fit(data[trained_features])"
   ]
  },
  {
   "cell_type": "code",
   "execution_count": 59,
   "metadata": {},
   "outputs": [
    {
     "ename": "NameError",
     "evalue": "name 'scaler' is not defined",
     "output_type": "error",
     "traceback": [
      "\u001b[0;31m---------------------------------------------------------------------------\u001b[0m",
      "\u001b[0;31mNameError\u001b[0m                                 Traceback (most recent call last)",
      "Cell \u001b[0;32mIn[59], line 2\u001b[0m\n\u001b[1;32m      1\u001b[0m \u001b[38;5;66;03m# 입력 데이터 스케일링\u001b[39;00m\n\u001b[0;32m----> 2\u001b[0m input_data_scaled \u001b[38;5;241m=\u001b[39m \u001b[43mscaler\u001b[49m\u001b[38;5;241m.\u001b[39mtransform(input_data)\n\u001b[1;32m      4\u001b[0m \u001b[38;5;66;03m# 예측\u001b[39;00m\n\u001b[1;32m      5\u001b[0m prediction \u001b[38;5;241m=\u001b[39m model\u001b[38;5;241m.\u001b[39mpredict(input_data_scaled)\n",
      "\u001b[0;31mNameError\u001b[0m: name 'scaler' is not defined"
     ]
    }
   ],
   "source": [
    "# 입력 데이터 스케일링\n",
    "input_data_scaled = scaler.transform(input_data)\n",
    "\n",
    "# 예측\n",
    "prediction = model.predict(input_data_scaled)"
   ]
  },
  {
   "cell_type": "code",
   "execution_count": null,
   "metadata": {},
   "outputs": [],
   "source": [
    "# 예측 결과 출력\n",
    "print(f\"\\n입력된 값 (원래 단위):\\n{input_data}\\n\")\n",
    "print(f\"예측된 생존 여부 (0: 사망, 1: 생존): {y_pred_scaled[0]}\")"
   ]
  }
 ],
 "metadata": {
  "kernelspec": {
   "display_name": "Python 3",
   "language": "python",
   "name": "python3"
  },
  "language_info": {
   "codemirror_mode": {
    "name": "ipython",
    "version": 3
   },
   "file_extension": ".py",
   "mimetype": "text/x-python",
   "name": "python",
   "nbconvert_exporter": "python",
   "pygments_lexer": "ipython3",
   "version": "3.8.10"
  }
 },
 "nbformat": 4,
 "nbformat_minor": 2
}
