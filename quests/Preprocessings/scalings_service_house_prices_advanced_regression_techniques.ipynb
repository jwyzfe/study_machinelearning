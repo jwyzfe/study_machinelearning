{
 "cells": [
  {
   "cell_type": "code",
   "execution_count": 37,
   "metadata": {},
   "outputs": [],
   "source": [
    "import pickle\n",
    "import pandas as pd\n",
    "from sklearn.preprocessing import StandardScaler\n",
    "\n",
    "dataset_path = '/apps/study_machinelearning/datasets/house_price.csv'"
   ]
  },
  {
   "cell_type": "code",
   "execution_count": 38,
   "metadata": {},
   "outputs": [],
   "source": [
    "# 저장된 모델 불러오기\n",
    "with open('housing_model.pkl', 'rb') as f:\n",
    "    loaded_model = pickle.load(f)\n"
   ]
  },
  {
   "cell_type": "code",
   "execution_count": 39,
   "metadata": {},
   "outputs": [],
   "source": [
    "data = pd.read_csv(dataset_path)\n",
    "trained_features = ['LotArea', 'YearBuilt', 'FullBath', 'GarageArea']\n",
    "df = data[trained_features]"
   ]
  },
  {
   "cell_type": "code",
   "execution_count": 40,
   "metadata": {},
   "outputs": [],
   "source": [
    "# 스케일러 학습\n",
    "standardScaler = StandardScaler()\n",
    "standard_scaler = standardScaler.fit(df)  # 스케일 학습"
   ]
  },
  {
   "cell_type": "code",
   "execution_count": 41,
   "metadata": {},
   "outputs": [],
   "source": [
    "# 사용자 입력 받기\n",
    "lot_area = float(input(\"Lot Area (제곱 피트): \"))\n",
    "year_built = int(input(\"Year Built: \"))\n",
    "full_bath = int(input(\"FullBath: \"))\n",
    "garage_area = float(input(\"Garage Area (제곱 피트): \"))\n",
    "input_data = pd.DataFrame([[lot_area, year_built, full_bath, garage_area]], columns=trained_features)\n"
   ]
  },
  {
   "cell_type": "code",
   "execution_count": 42,
   "metadata": {},
   "outputs": [],
   "source": [
    "# 입력 데이터를 스케일링\n",
    "data_transformed = standard_scaler.transform(input_data)\n"
   ]
  },
  {
   "cell_type": "code",
   "execution_count": 43,
   "metadata": {},
   "outputs": [],
   "source": [
    "# 예측 수행 (스케일링된 데이터로)\n",
    "y_pred_scaled = loaded_model.predict(data_transformed)\n"
   ]
  },
  {
   "cell_type": "code",
   "execution_count": 44,
   "metadata": {},
   "outputs": [],
   "source": [
    "# 예측 결과를 역변환하여 원래 단위로 복원\n",
    "y_pred_original = standard_scaler.inverse_transform(data_transformed)\n"
   ]
  },
  {
   "cell_type": "code",
   "execution_count": 45,
   "metadata": {},
   "outputs": [
    {
     "name": "stdout",
     "output_type": "stream",
     "text": [
      "\n",
      "입력된 값 (원래 단위):\n",
      "   LotArea  YearBuilt  FullBath  GarageArea\n",
      "0   9000.0       2000         2       600.0\n",
      "\n",
      "스케일링된 예측된 판매 가격 (SalePrice): 229,431.64\n",
      "원래 단위로 복원된 판매 가격 (SalePrice): 9,000.00 달러\n"
     ]
    }
   ],
   "source": [
    "# 예측 결과 출력 (스케일링된 값과 원래 값 모두 출력)\n",
    "# 입력값 출력\n",
    "print(f\"\\n입력된 값 (원래 단위):\\n{input_data}\\n\")\n",
    "print(f\"스케일링된 예측된 판매 가격 (SalePrice): {y_pred_scaled[0]:,.2f}\")\n",
    "print(f\"원래 단위로 복원된 판매 가격 (SalePrice): {y_pred_original[0][0]:,.2f} 달러\")"
   ]
  },
  {
   "cell_type": "code",
   "execution_count": null,
   "metadata": {},
   "outputs": [],
   "source": []
  }
 ],
 "metadata": {
  "kernelspec": {
   "display_name": "Python 3",
   "language": "python",
   "name": "python3"
  },
  "language_info": {
   "codemirror_mode": {
    "name": "ipython",
    "version": 3
   },
   "file_extension": ".py",
   "mimetype": "text/x-python",
   "name": "python",
   "nbconvert_exporter": "python",
   "pygments_lexer": "ipython3",
   "version": "3.8.10"
  }
 },
 "nbformat": 4,
 "nbformat_minor": 2
}
