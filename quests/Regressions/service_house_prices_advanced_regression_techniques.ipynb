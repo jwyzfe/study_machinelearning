{
 "cells": [
  {
   "cell_type": "code",
   "execution_count": 134,
   "metadata": {},
   "outputs": [],
   "source": [
    "import pickle\n",
    "import pandas as pd"
   ]
  },
  {
   "cell_type": "code",
   "execution_count": 135,
   "metadata": {},
   "outputs": [],
   "source": [
    "# 저장된 모델 불러오기\n",
    "with open('housing_model.pkl', 'rb') as f:\n",
    "    loaded_model = pickle.load(f)"
   ]
  },
  {
   "cell_type": "code",
   "execution_count": 136,
   "metadata": {},
   "outputs": [],
   "source": [
    "# 배포용으로 선별한 4개 컬럼\n",
    "trained_features = ['LotArea', 'YearBuilt', 'FullBath', 'GarageArea']"
   ]
  },
  {
   "cell_type": "code",
   "execution_count": 137,
   "metadata": {},
   "outputs": [],
   "source": [
    "# 사용자 입력 받기\n",
    "lot_area = float(input(\"Lot Area (제곱 피트): \"))\n",
    "year_built = int(input(\"Year Built: \"))\n",
    "full_bath = int(input(\"FullBath: \"))\n",
    "garage_area = float(input(\"Garage Area (제곱 피트): \"))\n",
    "\n"
   ]
  },
  {
   "cell_type": "code",
   "execution_count": 138,
   "metadata": {},
   "outputs": [],
   "source": [
    "data = pd.DataFrame([[lot_area, year_built, full_bath, garage_area]], columns=trained_features)"
   ]
  },
  {
   "cell_type": "code",
   "execution_count": 139,
   "metadata": {},
   "outputs": [],
   "source": [
    "# 예측 수행 (numpy 배열로 변환)\n",
    "y_pred = loaded_model.predict(data)  \n",
    "\n"
   ]
  },
  {
   "cell_type": "code",
   "execution_count": 140,
   "metadata": {},
   "outputs": [
    {
     "name": "stdout",
     "output_type": "stream",
     "text": [
      "예측된 판매 가격 (SalePrice): 230,566.27 달러\n"
     ]
    }
   ],
   "source": [
    "# 예측 결과 출력\n",
    "print(f\"예측된 판매 가격 (SalePrice): {y_pred[0]:,.2f} 달러\")"
   ]
  },
  {
   "cell_type": "code",
   "execution_count": null,
   "metadata": {},
   "outputs": [],
   "source": []
  }
 ],
 "metadata": {
  "kernelspec": {
   "display_name": "Python 3",
   "language": "python",
   "name": "python3"
  },
  "language_info": {
   "codemirror_mode": {
    "name": "ipython",
    "version": 3
   },
   "file_extension": ".py",
   "mimetype": "text/x-python",
   "name": "python",
   "nbconvert_exporter": "python",
   "pygments_lexer": "ipython3",
   "version": "3.8.10"
  }
 },
 "nbformat": 4,
 "nbformat_minor": 2
}
